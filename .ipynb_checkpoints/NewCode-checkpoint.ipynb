{
 "cells": [
  {
   "cell_type": "code",
   "execution_count": 23,
   "metadata": {},
   "outputs": [],
   "source": [
    "from os import getcwd, scandir, rmdir, rename\n",
    "from shutil import move\n",
    "from pprint import pprint\n",
    "\n",
    "root = getcwd()\n",
    "\n",
    "def get_folders(path):\n",
    "    folders = []\n",
    "    if type(path) is str:\n",
    "        with scandir(path) as contents:\n",
    "            for child in contents:\n",
    "                if not child.name.startswith('.') and child.is_dir():\n",
    "                    folders.append(child.path)\n",
    "        return folders\n",
    "    if type(path) is list:\n",
    "        for item in path:\n",
    "            with scandir(item) as contents:\n",
    "                for child in contents:\n",
    "                    if not child.name.startswith('.') and child.is_dir():\n",
    "                        folders.append(child.path)\n",
    "        return folders\n",
    "    return False\n",
    "\n",
    "def get_files(path):\n",
    "    files = []\n",
    "    if type(path) is str:\n",
    "        with scandir(path) as contents:\n",
    "            for child in contents:\n",
    "                if child.is_file():\n",
    "                    files.append(child.path)\n",
    "        return files\n",
    "    if type(path) is list:\n",
    "        for item in path:\n",
    "            with scandir(item) as contents:\n",
    "                for child in contents:\n",
    "                    if child.is_file():\n",
    "                        files.append(child.path)\n",
    "        return files\n",
    "    return False\n",
    "\n",
    "def new_path(curpath):\n",
    "    new = curpath.split('/')\n",
    "    del new[-2]\n",
    "    new = '/'.join(new)\n",
    "    return new\n",
    "\n",
    "def perform_cleanup(children, grandchildren, orphans):\n",
    "    if not orphans['folders'] or not orphans['files']:\n",
    "        for file in grandchildren['files']:\n",
    "            move(file, new_path(file))\n",
    "\n",
    "parents = {'folders': get_folders(root), 'files': get_files(root)}\n",
    "children = {'folders': get_folders(parents['folders']), 'files': get_files(parents['folders'])}\n",
    "grandchildren = {'folders': get_folders(children['folders']), 'files': get_files(children['folders'])}\n",
    "orphans = {'folders': get_folders(grandchildren['folders']), 'files': get_files(grandchildren['folders'])}\n",
    "\n",
    "# for file in grandchildren['files']:\n",
    "#     new = file.split('/')\n",
    "#     del new[-2]\n",
    "#     new = '/'.join(new)\n",
    "#     move(file, new)\n",
    "\n",
    "# for folder in children['folders']:\n",
    "#     rmdir(folder)"
   ]
  },
  {
   "cell_type": "code",
   "execution_count": null,
   "metadata": {
    "collapsed": true
   },
   "outputs": [],
   "source": []
  }
 ],
 "metadata": {
  "kernelspec": {
   "display_name": "Python 3",
   "language": "python",
   "name": "python3"
  },
  "language_info": {
   "codemirror_mode": {
    "name": "ipython",
    "version": 3
   },
   "file_extension": ".py",
   "mimetype": "text/x-python",
   "name": "python",
   "nbconvert_exporter": "python",
   "pygments_lexer": "ipython3",
   "version": "3.6.3"
  }
 },
 "nbformat": 4,
 "nbformat_minor": 2
}
