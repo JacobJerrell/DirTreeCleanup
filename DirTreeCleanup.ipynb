{
 "cells": [
  {
   "cell_type": "code",
   "execution_count": 29,
   "metadata": {},
   "outputs": [
    {
     "name": "stdout",
     "output_type": "stream",
     "text": [
      "['/Users/j792280/Projects/DirTreeCleanup/1 Deep 1', '/Users/j792280/Projects/DirTreeCleanup/1 Deep 2', '/Users/j792280/Projects/DirTreeCleanup/1 Deep 3']\n",
      "['/Users/j792280/Projects/DirTreeCleanup/1 Deep 1/2 Deep 1', '/Users/j792280/Projects/DirTreeCleanup/1 Deep 2/2 Deep 2', '/Users/j792280/Projects/DirTreeCleanup/1 Deep 3/2 Deep 3']\n"
     ]
    }
   ],
   "source": [
    "from os import getcwd, scandir, rmdir\n",
    "\n",
    "def get_tree(path):\n",
    "    tree = []\n",
    "    with scandir(path) as contents:\n",
    "        for content in contents:\n",
    "            if not content.name.startswith('.') and content.is_dir():\n",
    "                tree.append(content.path)\n",
    "    return tree\n",
    "\n",
    "def get_leaf(path):\n",
    "    leaf = []\n",
    "    with scandir(path) as contents:\n",
    "        for entry in contents:\n",
    "            if not entry.name.startswith('.') and entry.is_file():\n",
    "                leaf.append(entry.name)\n",
    "    return leaf\n",
    "\n",
    "ROOT_TREE = get_tree(getcwd())\n",
    "CHILD_TREE = []\n",
    "for entry in ROOT_TREE:\n",
    "    CHILD_TREE.extend(get_tree(entry))\n",
    "\n",
    "print(ROOT_TREE)\n",
    "print(CHILD_TREE)"
   ]
  },
  {
   "cell_type": "code",
   "execution_count": 15,
   "metadata": {
    "collapsed": true
   },
   "outputs": [],
   "source": [
    "for entry in CHILD_TREE:\n",
    "    breakApart = entry.split('/')\n",
    "    del breakApart[-1]\n",
    "    breakApart = '/'.join(breakApart)\n",
    "    FILES = []\n",
    "    FILES.extend(get_leaf(entry))\n",
    "    for file in FILES:\n",
    "        shutil.move(entry + '/' + file, breakApart + '/' + file)\n",
    "    rmdir(entry)"
   ]
  },
  {
   "cell_type": "code",
   "execution_count": null,
   "metadata": {
    "collapsed": true
   },
   "outputs": [],
   "source": []
  },
  {
   "cell_type": "code",
   "execution_count": 27,
   "metadata": {},
   "outputs": [],
   "source": [
    "# from os import getcwd, scandir, rmdir\n",
    "# import shutil\n",
    "# from pprint import pprint\n",
    "\n",
    "# def get_tree(path):\n",
    "#     tree = []\n",
    "#     with scandir(path) as contents:\n",
    "#         for entry in contents:\n",
    "#             if not entry.name.startswith('.') and entry.is_dir():\n",
    "#                 tree.append(entry.path)\n",
    "#     return tree\n",
    "\n",
    "# def get_leaf(path):\n",
    "#     leaf = []\n",
    "#     with scandir(path) as contents:\n",
    "#         for entry in contents:\n",
    "#             if not entry.name.startswith('.') and entry.is_file():\n",
    "#                 leaf.append(entry.name)\n",
    "#     return leaf\n",
    "\n",
    "# ROOT_TREE = get_tree(getcwd())\n",
    "\n",
    "# print('Root Tree:')\n",
    "# pprint(ROOT_TREE)\n",
    "\n",
    "# CHILD_TREE = []\n",
    "# for entry in ROOT_TREE:\n",
    "#     CHILD_TREE.extend(get_tree(entry))\n",
    "\n",
    "# print('Child Tree:')\n",
    "# pprint(CHILD_TREE)"
   ]
  }
 ],
 "metadata": {
  "kernelspec": {
   "display_name": "Python 3",
   "language": "python",
   "name": "python3"
  },
  "language_info": {
   "codemirror_mode": {
    "name": "ipython",
    "version": 3
   },
   "file_extension": ".py",
   "mimetype": "text/x-python",
   "name": "python",
   "nbconvert_exporter": "python",
   "pygments_lexer": "ipython3",
   "version": "3.6.3"
  }
 },
 "nbformat": 4,
 "nbformat_minor": 2
}
